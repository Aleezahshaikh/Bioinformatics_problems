{
  "nbformat": 4,
  "nbformat_minor": 0,
  "metadata": {
    "colab": {
      "provenance": []
    },
    "kernelspec": {
      "name": "python3",
      "display_name": "Python 3"
    },
    "language_info": {
      "name": "python"
    }
  },
  "cells": [
    {
      "cell_type": "code",
      "execution_count": 1,
      "metadata": {
        "id": "xR4asVzMBK6O",
        "colab": {
          "base_uri": "https://localhost:8080/"
        },
        "outputId": "05767793-021b-4a29-939c-edfc9a8e9e0d"
      },
      "outputs": [
        {
          "output_type": "stream",
          "name": "stdout",
          "text": [
            "Collecting biopython\n",
            "  Downloading biopython-1.84-cp310-cp310-manylinux_2_17_x86_64.manylinux2014_x86_64.whl.metadata (12 kB)\n",
            "Requirement already satisfied: numpy in /usr/local/lib/python3.10/dist-packages (from biopython) (1.26.4)\n",
            "Downloading biopython-1.84-cp310-cp310-manylinux_2_17_x86_64.manylinux2014_x86_64.whl (3.2 MB)\n",
            "\u001b[2K   \u001b[90m━━━━━━━━━━━━━━━━━━━━━━━━━━━━━━━━━━━━━━━━\u001b[0m \u001b[32m3.2/3.2 MB\u001b[0m \u001b[31m26.6 MB/s\u001b[0m eta \u001b[36m0:00:00\u001b[0m\n",
            "\u001b[?25hInstalling collected packages: biopython\n",
            "Successfully installed biopython-1.84\n"
          ]
        }
      ],
      "source": [
        "!pip install biopython\n"
      ]
    },
    {
      "cell_type": "code",
      "source": [
        "from Bio import SeqIO\n",
        "\n",
        "# Defining function to find the longest common substring in a list of DNA strings\n",
        "def find_longest_common_substring(dna_strings):\n",
        "    # Checking if there are any DNA strings to work with else it will print the revelant message and return empty string\n",
        "    if not dna_strings:\n",
        "        print(\"No DNA sequences found.\")\n",
        "        return \"\"\n",
        "\n",
        "    # Now using the first DNA string as a starting point for comparison\n",
        "    base_string = dna_strings[0]\n",
        "    # Getting the length of the first string to know how many letters it has\n",
        "    max_length = len(base_string)\n",
        "\n",
        "    # Trying to fing the substrings from the longest possible length down to 1 with step size -1\n",
        "    for length in range(max_length, 0, -1):\n",
        "        for start in range(max_length - length + 1):\n",
        "            # Getting a substring of the current length\n",
        "            substring = base_string[start:start + length]\n",
        "\n",
        "            # Checking whether or not this substring is in every other DNA string\n",
        "            if all(substring in seq for seq in dna_strings[1:]):\n",
        "                return substring  # Return the first one we find\n",
        "    return \"none\"  # If no common substring is found it will return none\n",
        "\n",
        "# Loading the DNA sequences from a FASTA file in Google Colab\n",
        "file_path = '/content/sample_dataset.fasta'  # Adjust path if needed\n",
        "\n",
        "# Now reading and storing the DNA sequences from the FASTA file\n",
        "sequences = [str(record.seq) for record in SeqIO.parse(file_path, \"fasta\")]\n",
        "\n",
        "# Checking if any sequences were found and processed\n",
        "if not sequences:\n",
        "    print(\"No sequences found in the provided FASTA file. Please check the file format.\")\n",
        "else:\n",
        "    # Run the function to find the longest common substring\n",
        "    result = find_longest_common_substring(sequences)\n",
        "\n",
        "    # Display the result\n",
        "    print(\"Longest common substring:\", result)\n",
        "\n"
      ],
      "metadata": {
        "colab": {
          "base_uri": "https://localhost:8080/"
        },
        "id": "YqF2RUVyDN0t",
        "outputId": "fae4667e-e816-48f5-a018-de86dbc48238"
      },
      "execution_count": 15,
      "outputs": [
        {
          "output_type": "stream",
          "name": "stdout",
          "text": [
            "Longest common substring: none\n"
          ]
        }
      ]
    }
  ]
}