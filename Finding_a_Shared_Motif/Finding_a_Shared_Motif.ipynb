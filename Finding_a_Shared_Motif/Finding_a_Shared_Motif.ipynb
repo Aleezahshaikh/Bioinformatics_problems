{
  "nbformat": 4,
  "nbformat_minor": 0,
  "metadata": {
    "colab": {
      "provenance": [],
      "include_colab_link": true
    },
    "kernelspec": {
      "name": "python3",
      "display_name": "Python 3"
    },
    "language_info": {
      "name": "python"
    }
  },
  "cells": [
    {
      "cell_type": "markdown",
      "metadata": {
        "id": "view-in-github",
        "colab_type": "text"
      },
      "source": [
        "<a href=\"https://colab.research.google.com/github/Aleezahshaikh/Bioinformatics_problems/blob/main/Finding_a_Shared_Motif/Finding_a_Shared_Motif.ipynb\" target=\"_parent\"><img src=\"https://colab.research.google.com/assets/colab-badge.svg\" alt=\"Open In Colab\"/></a>"
      ]
    },
    {
      "cell_type": "code",
      "execution_count": 1,
      "metadata": {
        "id": "xR4asVzMBK6O",
        "colab": {
          "base_uri": "https://localhost:8080/"
        },
        "outputId": "2bbdbc44-f0cb-4480-c58c-89524df6c159"
      },
      "outputs": [
        {
          "output_type": "stream",
          "name": "stdout",
          "text": [
            "Collecting biopython\n",
            "  Downloading biopython-1.84-cp310-cp310-manylinux_2_17_x86_64.manylinux2014_x86_64.whl.metadata (12 kB)\n",
            "Requirement already satisfied: numpy in /usr/local/lib/python3.10/dist-packages (from biopython) (1.26.4)\n",
            "Downloading biopython-1.84-cp310-cp310-manylinux_2_17_x86_64.manylinux2014_x86_64.whl (3.2 MB)\n",
            "\u001b[2K   \u001b[90m━━━━━━━━━━━━━━━━━━━━━━━━━━━━━━━━━━━━━━━━\u001b[0m \u001b[32m3.2/3.2 MB\u001b[0m \u001b[31m17.4 MB/s\u001b[0m eta \u001b[36m0:00:00\u001b[0m\n",
            "\u001b[?25hInstalling collected packages: biopython\n",
            "Successfully installed biopython-1.84\n"
          ]
        }
      ],
      "source": [
        "!pip install biopython\n"
      ]
    },
    {
      "cell_type": "code",
      "source": [
        "from Bio import SeqIO\n",
        "from google.colab import files\n",
        "\n",
        "def is_valid_dna(sequence):\n",
        "    \"\"\"\n",
        "    Checks if the sequence contains only valid DNA characters (A, T, C, G).\n",
        "\n",
        "    Parameters:\n",
        "        sequence (str): A string representing the DNA sequence.\n",
        "\n",
        "    Returns:\n",
        "        bool: True if the sequence contains only valid characters, False otherwise.\n",
        "    \"\"\"\n",
        "    return all(base in 'ATCG' for base in sequence)\n",
        "\n",
        "def validate_sequence(seq, seq_num=None):\n",
        "    \"\"\"\n",
        "    Validates a DNA sequence by checking its length and validity.\n",
        "\n",
        "    Parameters:\n",
        "        seq (str): The DNA sequence to be validated.\n",
        "        seq_num (int, optional): The sequence number (used for error reporting).\n",
        "\n",
        "    Returns:\n",
        "        bool: True if the sequence is valid, False otherwise.\n",
        "    \"\"\"\n",
        "    if len(seq) > 1000:\n",
        "        print(f\"Error: Sequence {seq_num} length exceeds 1000 base pairs.\")\n",
        "        return False\n",
        "    if not is_valid_dna(seq):\n",
        "        print(f\"Error: Sequence {seq_num} contains invalid DNA characters. Please enter only A, T, C, G.\")\n",
        "        return False\n",
        "    return True\n",
        "\n",
        "def find_longest_common_substring(dna_strings):\n",
        "    \"\"\"\n",
        "    Finds the longest common substring among a list of DNA strings.\n",
        "\n",
        "    Parameters:\n",
        "        dna_strings (list): A list of DNA sequences (strings).\n",
        "\n",
        "    Returns:\n",
        "        str: The longest common substring, or \"none\" if no common substring exists.\n",
        "    \"\"\"\n",
        "    if not dna_strings:\n",
        "        print(\"No DNA sequences found.\")\n",
        "        return \"\"\n",
        "\n",
        "    base_string = dna_strings[0]\n",
        "    max_length = len(base_string)\n",
        "\n",
        "    for length in range(max_length, 0, -1):\n",
        "        for start in range(max_length - length + 1):\n",
        "            substring = base_string[start:start + length]\n",
        "            if all(substring in seq for seq in dna_strings[1:]):\n",
        "                return substring\n",
        "    return \"none\"\n",
        "\n",
        "def get_dna_sequences():\n",
        "    \"\"\"\n",
        "    Prompts the user to input DNA sequences manually or upload a FASTA file.\n",
        "    Validates the input based on specified limits for number and length of sequences.\n",
        "\n",
        "    Returns:\n",
        "        list: A list of valid DNA sequences, or an empty list if input is invalid.\n",
        "    \"\"\"\n",
        "    while True:\n",
        "        choice = input(\"CHOOSE \\n (1) Do you want to input a sequence manually or \\n (2) Upload a FASTA file \\nEnter 1 or 2: \")\n",
        "\n",
        "        if choice == '1':\n",
        "            print(\"\\nExample of valid DNA sequence: ATGCATGC\")\n",
        "            num_sequences = int(input(\"Enter the number of DNA sequences (up to 100): \"))\n",
        "            if num_sequences > 100:\n",
        "                print(\"Error: Maximum number of sequences is 100.\")\n",
        "                continue\n",
        "\n",
        "            sequences = []\n",
        "            sequences_valid = True\n",
        "\n",
        "            for i in range(num_sequences):\n",
        "                seq = input(f\"Enter DNA sequence {i + 1} (up to 1000 bp): \").strip().upper()\n",
        "                if not validate_sequence(seq, seq_num=i+1):\n",
        "                    sequences_valid = False\n",
        "                    break\n",
        "                sequences.append(seq)\n",
        "\n",
        "            if sequences_valid:\n",
        "                return sequences\n",
        "            else:\n",
        "                print(\"\\nPlease try entering the sequences again.\")\n",
        "                continue\n",
        "\n",
        "        elif choice == '2':\n",
        "            print(\"\\nExample of valid DNA sequence: ATGCATGC\")\n",
        "            print(\"Please upload a valid FASTA file containing DNA sequences.\")\n",
        "            uploaded = files.upload()\n",
        "            if not uploaded:\n",
        "                print(\"Error: No file uploaded.\")\n",
        "                continue\n",
        "\n",
        "            uploaded_file = list(uploaded.keys())[0]\n",
        "            try:\n",
        "                sequences = [str(record.seq) for record in SeqIO.parse(uploaded_file, \"fasta\")]\n",
        "            except Exception as e:\n",
        "                print(f\"Error: Failed to read the FASTA file. {e}\")\n",
        "                continue\n",
        "\n",
        "            if len(sequences) > 100:\n",
        "                print(\"Error: FASTA file contains more than 100 sequences.\")\n",
        "                continue\n",
        "            if any(len(seq) > 1000 for seq in sequences):\n",
        "                print(\"Error: One or more sequences in the file exceed 1000 base pairs.\")\n",
        "                continue\n",
        "            if any(not is_valid_dna(seq) for seq in sequences):\n",
        "                print(\"Error: One or more sequences contain invalid DNA characters.\")\n",
        "                continue\n",
        "\n",
        "            return sequences\n",
        "\n",
        "        else:\n",
        "            print(\"Invalid choice. Please enter 1 for manual input or 2 for file upload.\")\n",
        "            continue\n",
        "\n",
        "# Main execution\n",
        "sequences = get_dna_sequences()\n",
        "\n",
        "if not sequences:\n",
        "    print(\"No sequences found. Please check the input.\")\n",
        "else:\n",
        "    result = find_longest_common_substring(sequences)\n",
        "    print(\"Longest common substring:\", result)\n"
      ],
      "metadata": {
        "id": "Tf5_S7hKRixy",
        "colab": {
          "base_uri": "https://localhost:8080/"
        },
        "outputId": "81e0baea-483f-4345-b273-7764b5952a3f"
      },
      "execution_count": 7,
      "outputs": [
        {
          "output_type": "stream",
          "name": "stdout",
          "text": [
            "CHOOSE \n",
            " (1) Do you want to input a sequence manually or \n",
            " (2) Upload a FASTA file \n",
            "Enter 1 or 2: 1\n",
            "\n",
            "Example of valid DNA sequence: ATGCATGC\n",
            "Enter the number of DNA sequences (up to 100): 3\n",
            "Enter DNA sequence 1 (up to 1000 bp): GATTACA\n",
            "Enter DNA sequence 2 (up to 1000 bp): TAGACCA\n",
            "Enter DNA sequence 3 (up to 1000 bp): ATACA\n",
            "Longest common substring: TA\n"
          ]
        }
      ]
    }
  ]
}