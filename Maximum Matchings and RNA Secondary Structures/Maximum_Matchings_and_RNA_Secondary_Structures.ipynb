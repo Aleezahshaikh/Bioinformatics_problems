{
  "nbformat": 4,
  "nbformat_minor": 0,
  "metadata": {
    "colab": {
      "provenance": [],
      "authorship_tag": "ABX9TyODxDxh/xJ31VTidWVGnhUJ",
      "include_colab_link": true
    },
    "kernelspec": {
      "name": "python3",
      "display_name": "Python 3"
    },
    "language_info": {
      "name": "python"
    }
  },
  "cells": [
    {
      "cell_type": "markdown",
      "metadata": {
        "id": "view-in-github",
        "colab_type": "text"
      },
      "source": [
        "<a href=\"https://colab.research.google.com/github/Aleezahshaikh/Bioinformatics_problems/blob/main/Maximum%20Matchings%20and%20RNA%20Secondary%20Structures/Maximum_Matchings_and_RNA_Secondary_Structures.ipynb\" target=\"_parent\"><img src=\"https://colab.research.google.com/assets/colab-badge.svg\" alt=\"Open In Colab\"/></a>"
      ]
    },
    {
      "cell_type": "code",
      "execution_count": 2,
      "metadata": {
        "colab": {
          "base_uri": "https://localhost:8080/"
        },
        "id": "Vp9ANR4HsPCf",
        "outputId": "61dce9ea-7dc4-4651-c673-ac180848bf17"
      },
      "outputs": [
        {
          "output_type": "stream",
          "name": "stdout",
          "text": [
            "Collecting biopython\n",
            "  Downloading biopython-1.84-cp310-cp310-manylinux_2_17_x86_64.manylinux2014_x86_64.whl.metadata (12 kB)\n",
            "Requirement already satisfied: numpy in /usr/local/lib/python3.10/dist-packages (from biopython) (1.26.4)\n",
            "Downloading biopython-1.84-cp310-cp310-manylinux_2_17_x86_64.manylinux2014_x86_64.whl (3.2 MB)\n",
            "\u001b[2K   \u001b[90m━━━━━━━━━━━━━━━━━━━━━━━━━━━━━━━━━━━━━━━━\u001b[0m \u001b[32m3.2/3.2 MB\u001b[0m \u001b[31m20.6 MB/s\u001b[0m eta \u001b[36m0:00:00\u001b[0m\n",
            "\u001b[?25hInstalling collected packages: biopython\n",
            "Successfully installed biopython-1.84\n"
          ]
        }
      ],
      "source": [
        "!pip install biopython"
      ]
    },
    {
      "cell_type": "code",
      "source": [
        "from math import factorial\n",
        "from Bio import SeqIO\n",
        "from google.colab import files\n",
        "import math\n",
        "\n",
        "def mmch(rna):\n",
        "    \"\"\"\n",
        "    Calculates the total number of maximum matchings of basepair edges in the bonding graph of an RNA string.\n",
        "\n",
        "    Args:\n",
        "        rna (str): RNA sequence composed of 'A', 'U', 'C', and 'G' characters.\n",
        "\n",
        "    Returns:\n",
        "        int: The total number of maximum matchings of base pairs.\n",
        "    \"\"\"\n",
        "    counts = {'A': 0, 'U': 0, 'C': 0, 'G': 0}\n",
        "    for n in rna:\n",
        "        if n in counts:\n",
        "            counts[n] += 1\n",
        "\n",
        "    if counts['A'] == counts['U'] and counts['C'] == counts['G']:\n",
        "        au_matchings = math.factorial(counts['A'])\n",
        "        cg_matchings = math.factorial(counts['C'])\n",
        "        return au_matchings * cg_matchings\n",
        "    else:\n",
        "        max_au = min(counts['A'], counts['U'])\n",
        "        max_cg = min(counts['C'], counts['G'])\n",
        "        au_combinations = math.comb(counts['A'], max_au) * math.comb(counts['U'], max_au)\n",
        "        cg_combinations = math.comb(counts['C'], max_cg) * math.comb(counts['G'], max_cg)\n",
        "        return au_combinations * cg_combinations\n",
        "\n",
        "def open_fasta(uploaded_file):\n",
        "    \"\"\"\n",
        "    Opens and reads a FASTA file to extract the RNA sequence.\n",
        "\n",
        "    Args:\n",
        "        uploaded_file (str): Name of the uploaded FASTA file.\n",
        "\n",
        "    Returns:\n",
        "        str: RNA sequence extracted from the FASTA file.\n",
        "    \"\"\"\n",
        "    sequence = ''\n",
        "    with open(uploaded_file, 'r') as fasta:\n",
        "        for line in fasta:\n",
        "            if line[0] != '>':\n",
        "                sequence += line.strip()\n",
        "    return sequence\n",
        "\n",
        "def get_input():\n",
        "    \"\"\"\n",
        "    Prompts the user to input an RNA sequence manually or upload a FASTA file.\n",
        "\n",
        "    Returns:\n",
        "        str: RNA sequence entered by the user.\n",
        "    \"\"\"\n",
        "    choice = input(\"CHOOSE \\n (1) Do you want to input a sequence manually or \\n (2) Upload a FASTA file \\nEnter 1 or 2: \")\n",
        "\n",
        "    if choice == '1':\n",
        "        seq = input(\"Please enter the RNA sequence: \").strip().upper()\n",
        "        if len(seq) > 100:\n",
        "            print(\"Error: The sequence length exceeds 100 characters. Please try again with a shorter sequence.\")\n",
        "            return get_input()\n",
        "        return seq\n",
        "    elif choice == '2':\n",
        "        print(\"Please upload a FASTA file.\")\n",
        "        uploaded = files.upload()\n",
        "        uploaded_file = list(uploaded.keys())[0]\n",
        "        sequence = open_fasta(uploaded_file)\n",
        "        if len(sequence) > 100:\n",
        "            print(\"Error: The sequence length exceeds 100 characters. Please try again with a shorter sequence.\")\n",
        "            return get_input()\n",
        "        return sequence\n",
        "    else:\n",
        "        print(\"Invalid choice. Please enter 1 for manual input or 2 for file upload.\")\n",
        "        return get_input()\n",
        "\n",
        "if __name__ == \"__main__\":\n",
        "    try:\n",
        "        sequence = get_input()\n",
        "        if sequence:\n",
        "            cleaned_sequence = sequence.replace('\\n', '').replace(' ', '').upper()\n",
        "            result = mmch(cleaned_sequence)\n",
        "            print(f\"Maximum matchings for the entered sequence: {result}\")\n",
        "    except Exception as e:\n",
        "        print(f\"An error occurred: {e}\")\n",
        "\n",
        "\n",
        "#TEST CASE 1\n",
        "#expected output for the following input sample is 6\n",
        "#>Rosalind_92\n",
        "#AUGCUUC\n",
        "\n",
        "#TEST CASE 2\n",
        "#expected output for the following input sample is 4\n",
        "#>Rosalind_92\n",
        "#AAUUCCGG"
      ],
      "metadata": {
        "colab": {
          "base_uri": "https://localhost:8080/"
        },
        "id": "nY74So0j_KDp",
        "outputId": "2105213a-72f9-4984-a4ed-6fc27d7a4125"
      },
      "execution_count": 3,
      "outputs": [
        {
          "output_type": "stream",
          "name": "stdout",
          "text": [
            "CHOOSE \n",
            " (1) Do you want to input a sequence manually or \n",
            " (2) Upload a FASTA file \n",
            "Enter 1 or 2: 1\n",
            "Please enter the RNA sequence: AAUUCCGG\n",
            "Maximum matchings for the entered sequence: 4\n"
          ]
        }
      ]
    }
  ]
}