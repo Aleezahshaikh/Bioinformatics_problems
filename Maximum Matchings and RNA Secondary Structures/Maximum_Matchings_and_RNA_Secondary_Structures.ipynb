{
  "nbformat": 4,
  "nbformat_minor": 0,
  "metadata": {
    "colab": {
      "provenance": [],
      "authorship_tag": "ABX9TyNhu9Eh2NCAaHJgx09T3erz",
      "include_colab_link": true
    },
    "kernelspec": {
      "name": "python3",
      "display_name": "Python 3"
    },
    "language_info": {
      "name": "python"
    }
  },
  "cells": [
    {
      "cell_type": "markdown",
      "metadata": {
        "id": "view-in-github",
        "colab_type": "text"
      },
      "source": [
        "<a href=\"https://colab.research.google.com/github/Aleezahshaikh/Bioinformatics_problems/blob/main/Maximum%20Matchings%20and%20RNA%20Secondary%20Structures/Maximum_Matchings_and_RNA_Secondary_Structures.ipynb\" target=\"_parent\"><img src=\"https://colab.research.google.com/assets/colab-badge.svg\" alt=\"Open In Colab\"/></a>"
      ]
    },
    {
      "cell_type": "code",
      "execution_count": null,
      "metadata": {
        "colab": {
          "base_uri": "https://localhost:8080/"
        },
        "id": "Vp9ANR4HsPCf",
        "outputId": "abe1424e-11e8-4fe2-c0f8-59bd56a94076"
      },
      "outputs": [
        {
          "output_type": "stream",
          "name": "stdout",
          "text": [
            "Requirement already satisfied: biopython in /usr/local/lib/python3.10/dist-packages (1.84)\n",
            "Requirement already satisfied: numpy in /usr/local/lib/python3.10/dist-packages (from biopython) (1.26.4)\n"
          ]
        }
      ],
      "source": [
        "!pip install biopython"
      ]
    },
    {
      "cell_type": "code",
      "source": [
        "from Bio import SeqIO\n",
        "from google.colab import files\n",
        "import math\n",
        "\n",
        "def mmch(rna):\n",
        "    \"\"\"\n",
        "    Calculates the total number of maximum matchings of basepair edges in the bonding graph of an RNA string.\n",
        "    Basepair edges are formed between A-U and C-G. The function determines the possible combinations\n",
        "    for these pairs based on the counts of A, U, C, and G bases.\n",
        "\n",
        "    Args:\n",
        "        rna (str): RNA sequence composed of 'A', 'U', 'C', and 'G' characters.\n",
        "\n",
        "    Returns:\n",
        "        int: The total number of maximum matchings of base pairs.\n",
        "    \"\"\"\n",
        "    counts = {'A': 0, 'U': 0, 'C': 0, 'G': 0}\n",
        "    for n in rna:\n",
        "        counts[n] += 1\n",
        "\n",
        "    max_au = min(counts['A'], counts['U'])\n",
        "    max_cg = min(counts['C'], counts['G'])\n",
        "\n",
        "    au_combinations = math.comb(counts['A'], max_au) * math.comb(counts['U'], max_au)\n",
        "    cg_combinations = math.comb(counts['C'], max_cg) * math.comb(counts['G'], max_cg)\n",
        "    return au_combinations * cg_combinations\n",
        "\n",
        "def open_fasta(uploaded_file):\n",
        "    \"\"\"\n",
        "    Opens and reads a FASTA file to extract the RNA sequence.\n",
        "\n",
        "    Args:\n",
        "        uploaded_file (str): Name of the uploaded FASTA file.\n",
        "\n",
        "    Returns:\n",
        "        str: RNA sequence extracted from the FASTA file.\n",
        "    \"\"\"\n",
        "    sequence = ''\n",
        "    with open(uploaded_file, 'r') as fasta:\n",
        "        for line in fasta:\n",
        "            if line[0] != '>':\n",
        "                sequence += line.strip()\n",
        "    return sequence\n",
        "\n",
        "def get_input():\n",
        "    \"\"\"\n",
        "    Prompts the user to input an RNA sequence manually or upload a FASTA file.\n",
        "\n",
        "    Returns:\n",
        "        str: RNA sequence entered by the user.\n",
        "    \"\"\"\n",
        "    choice = input(\"CHOOSE \\n (1) Do you want to input a sequence manually or \\n (2) Upload a FASTA file \\nEnter 1 or 2: \")\n",
        "\n",
        "    if choice == '1':\n",
        "        seq = input(\"Please enter the RNA sequence: \").strip().upper()\n",
        "        if len(seq) > 100:\n",
        "            print(\"Error: The sequence length exceeds 100 characters. Please try again with a shorter sequence.\")\n",
        "            return get_input()\n",
        "        return seq\n",
        "    elif choice == '2':\n",
        "        print(\"Please upload a FASTA file.\")\n",
        "        uploaded = files.upload()\n",
        "        uploaded_file = list(uploaded.keys())[0]\n",
        "        sequence = open_fasta(uploaded_file)\n",
        "        if len(sequence) > 100:\n",
        "            print(\"Error: The sequence length exceeds 100 characters. Please try again with a shorter sequence.\")\n",
        "            return get_input()\n",
        "        return sequence\n",
        "    else:\n",
        "        print(\"Invalid choice. Please enter 1 for manual input or 2 for file upload.\")\n",
        "        return get_input()\n",
        "\n",
        "if __name__ == \"__main__\":\n",
        "    try:\n",
        "        sequence = get_input()\n",
        "        if sequence:\n",
        "            cleaned_sequence = sequence.replace('\\n', '').replace(' ', '').upper()\n",
        "            result = mmch(cleaned_sequence)\n",
        "            print(f\"Maximum matchings for the entered sequence: {result}\")\n",
        "    except Exception as e:\n",
        "        print(f\"An error occurred: {e}\")"
      ],
      "metadata": {
        "colab": {
          "base_uri": "https://localhost:8080/"
        },
        "id": "BtJr2MFjshG-",
        "outputId": "1fb5cd8b-2de1-4cab-a42f-525f9bcc1567"
      },
      "execution_count": null,
      "outputs": [
        {
          "output_type": "stream",
          "name": "stdout",
          "text": [
            "CHOOSE \n",
            " (1) Do you want to input a sequence manually or \n",
            " (2) Upload a FASTA file \n",
            "Enter 1 or 2: 1\n",
            "Please enter the RNA sequence: AUGCUAGCUAGCUAGCUACGAUCGUAGCUAGUCGACUGACUAGCUAGCUCGUACGUCAGCUAGCUAGCUCGUAGCUAGCUCGUACGUCAGCUAGCUAGCUCGUACGUACGAUCGAUCGAUCGUAGC\n",
            "Error: The sequence length exceeds 100 characters. Please try again with a shorter sequence.\n",
            "CHOOSE \n",
            " (1) Do you want to input a sequence manually or \n",
            " (2) Upload a FASTA file \n",
            "Enter 1 or 2: 1\n",
            "Please enter the RNA sequence: GUCGCACUAGUG\n",
            "Maximum matchings for the entered sequence: 12\n"
          ]
        }
      ]
    }
  ]
}