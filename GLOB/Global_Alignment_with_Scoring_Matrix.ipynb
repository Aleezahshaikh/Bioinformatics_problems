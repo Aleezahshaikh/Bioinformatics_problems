{
  "cells": [
    {
      "cell_type": "markdown",
      "metadata": {
        "id": "view-in-github",
        "colab_type": "text"
      },
      "source": [
        "<a href=\"https://colab.research.google.com/github/Aleezahshaikh/Bioinformatics_problems/blob/main/GLOB/Global_Alignment_with_Scoring_Matrix.ipynb\" target=\"_parent\"><img src=\"https://colab.research.google.com/assets/colab-badge.svg\" alt=\"Open In Colab\"/></a>"
      ]
    },
    {
      "cell_type": "code",
      "execution_count": 1,
      "metadata": {
        "colab": {
          "base_uri": "https://localhost:8080/"
        },
        "id": "PIDWnBVKSmGY",
        "outputId": "01878e45-d9ac-4020-c1bc-4cc1d36d3ef9"
      },
      "outputs": [
        {
          "output_type": "stream",
          "name": "stdout",
          "text": [
            "Collecting biopython\n",
            "  Downloading biopython-1.84-cp310-cp310-manylinux_2_17_x86_64.manylinux2014_x86_64.whl.metadata (12 kB)\n",
            "Requirement already satisfied: numpy in /usr/local/lib/python3.10/dist-packages (from biopython) (1.26.4)\n",
            "Downloading biopython-1.84-cp310-cp310-manylinux_2_17_x86_64.manylinux2014_x86_64.whl (3.2 MB)\n",
            "\u001b[2K   \u001b[90m━━━━━━━━━━━━━━━━━━━━━━━━━━━━━━━━━━━━━━━━\u001b[0m \u001b[32m3.2/3.2 MB\u001b[0m \u001b[31m15.2 MB/s\u001b[0m eta \u001b[36m0:00:00\u001b[0m\n",
            "\u001b[?25hInstalling collected packages: biopython\n",
            "Successfully installed biopython-1.84\n"
          ]
        }
      ],
      "source": [
        "!pip install biopython"
      ]
    },
    {
      "cell_type": "code",
      "execution_count": 6,
      "metadata": {
        "colab": {
          "base_uri": "https://localhost:8080/"
        },
        "id": "2DNU-ayySb9F",
        "outputId": "88e8d9ab-8392-4f42-f552-5201c98ab28a"
      },
      "outputs": [
        {
          "output_type": "stream",
          "name": "stdout",
          "text": [
            "CHOOSE \n",
            " (1) Do you want to input a sequence manually or \n",
            " (2) Upload a FASTA file \n",
            "Enter 1 or 2: 1\n",
            "Enter protein sequence 1 (up to 1000 aa): MEEPQSDPSV\n",
            "Enter protein sequence 2 (up to 1000 aa): MEESQDPSV\n",
            "Maximum Alignment Score: 35\n"
          ]
        }
      ],
      "source": [
        "import numpy as np\n",
        "from Bio import SeqIO\n",
        "from google.colab import files\n",
        "\n",
        "GAP_PENALTY = -5\n",
        "\n",
        "BLOSUM62 = {\n",
        "    ('A', 'A'): 4, ('A', 'C'): 0, ('A', 'D'): -2, ('A', 'E'): -1, ('A', 'F'): -2, ('A', 'G'): 0, ('A', 'H'): -2,\n",
        "    ('A', 'I'): -1, ('A', 'K'): -1, ('A', 'L'): -1, ('A', 'M'): -1, ('A', 'N'): -2, ('A', 'P'): -1, ('A', 'Q'): -1,\n",
        "    ('A', 'R'): -1, ('A', 'S'): 1, ('A', 'T'): 0, ('A', 'V'): 0, ('A', 'W'): -3, ('A', 'Y'): -2,\n",
        "    ('C', 'C'): 9, ('C', 'D'): -3, ('C', 'E'): -4, ('C', 'F'): -2, ('C', 'G'): -3, ('C', 'H'): -3, ('C', 'I'): -1,\n",
        "    ('C', 'K'): -3, ('C', 'L'): -1, ('C', 'M'): -1, ('C', 'N'): -3, ('C', 'P'): -3, ('C', 'Q'): -3, ('C', 'R'): -3,\n",
        "    ('C', 'S'): -1, ('C', 'T'): -1, ('C', 'V'): -1, ('C', 'W'): -2, ('C', 'Y'): -2,\n",
        "    ('D', 'D'): 6, ('D', 'E'): 2, ('D', 'F'): -3, ('D', 'G'): -1, ('D', 'H'): -1, ('D', 'I'): -3, ('D', 'K'): -1,\n",
        "    ('D', 'L'): -4, ('D', 'M'): -3, ('D', 'N'): 1, ('D', 'P'): -1, ('D', 'Q'): 0, ('D', 'R'): -2, ('D', 'S'): 0,\n",
        "    ('D', 'T'): -1, ('D', 'V'): -3, ('D', 'W'): -4, ('D', 'Y'): -3,\n",
        "    ('E', 'E'): 5, ('E', 'F'): -3, ('E', 'G'): -2, ('E', 'H'): 0, ('E', 'I'): -3, ('E', 'K'): 1, ('E', 'L'): -3,\n",
        "    ('E', 'M'): -2, ('E', 'N'): 0, ('E', 'P'): -1, ('E', 'Q'): 2, ('E', 'R'): 0, ('E', 'S'): 0, ('E', 'T'): -1,\n",
        "    ('E', 'V'): -2, ('E', 'W'): -3, ('E', 'Y'): -2,\n",
        "    ('F', 'F'): 6, ('F', 'G'): -3, ('F', 'H'): -1, ('F', 'I'): 0, ('F', 'K'): -3, ('F', 'L'): 0, ('F', 'M'): 0,\n",
        "    ('F', 'N'): -3, ('F', 'P'): -4, ('F', 'Q'): -3, ('F', 'R'): -3, ('F', 'S'): -2, ('F', 'T'): -2, ('F', 'V'): -1,\n",
        "    ('F', 'W'): 1, ('F', 'Y'): 3,\n",
        "    ('G', 'G'): 6, ('G', 'H'): -2, ('G', 'I'): -4, ('G', 'K'): -2, ('G', 'L'): -4, ('G', 'M'): -3, ('G', 'N'): 0,\n",
        "    ('G', 'P'): -2, ('G', 'Q'): -2, ('G', 'R'): -2, ('G', 'S'): 0, ('G', 'T'): -2, ('G', 'V'): -3, ('G', 'W'): -2,\n",
        "    ('G', 'Y'): -3,\n",
        "    ('H', 'H'): 8, ('H', 'I'): -3, ('H', 'K'): -1, ('H', 'L'): -3, ('H', 'M'): -2, ('H', 'N'): 1, ('H', 'P'): -2,\n",
        "    ('H', 'Q'): 0, ('H', 'R'): 0, ('H', 'S'): -1, ('H', 'T'): -2, ('H', 'V'): -3, ('H', 'W'): -2, ('H', 'Y'): 2,\n",
        "    ('I', 'I'): 4, ('I', 'K'): -3, ('I', 'L'): 2, ('I', 'M'): 1, ('I', 'N'): -3, ('I', 'P'): -3, ('I', 'Q'): -3,\n",
        "    ('I', 'R'): -3, ('I', 'S'): -2, ('I', 'T'): -1, ('I', 'V'): 3, ('I', 'W'): -3, ('I', 'Y'): -1,\n",
        "    ('K', 'K'): 5, ('K', 'L'): -2, ('K', 'M'): -1, ('K', 'N'): 0, ('K', 'P'): -1, ('K', 'Q'): 1, ('K', 'R'): 2,\n",
        "    ('K', 'S'): 0, ('K', 'T'): -1, ('K', 'V'): -2, ('K', 'W'): -3, ('K', 'Y'): -2,\n",
        "    ('L', 'L'): 4, ('L', 'M'): 2, ('L', 'N'): -3, ('L', 'P'): -3, ('L', 'Q'): -2, ('L', 'R'): -2, ('L', 'S'): -2,\n",
        "    ('L', 'T'): -1, ('L', 'V'): 1, ('L', 'W'): -2, ('L', 'Y'): -1,\n",
        "    ('M', 'M'): 5, ('M', 'N'): -2, ('M', 'P'): -2, ('M', 'Q'): 0, ('M', 'R'): -1, ('M', 'S'): -1, ('M', 'T'): -1,\n",
        "    ('M', 'V'): 1, ('M', 'W'): -1, ('M', 'Y'): -1,\n",
        "    ('N', 'N'): 6, ('N', 'P'): -2, ('N', 'Q'): 0, ('N', 'R'): 0, ('N', 'S'): 1, ('N', 'T'): 0, ('N', 'V'): -3,\n",
        "    ('N', 'W'): -4, ('N', 'Y'): -2,\n",
        "    ('P', 'P'): 7, ('P', 'Q'): -1, ('P', 'R'): -2, ('P', 'S'): -1, ('P', 'T'): -1, ('P', 'V'): -2, ('P', 'W'): -4,\n",
        "    ('P', 'Y'): -3,\n",
        "    ('Q', 'Q'): 5, ('Q', 'R'): 1, ('Q', 'S'): 0, ('Q', 'T'): -1, ('Q', 'V'): -2, ('Q', 'W'): -2, ('Q', 'Y'): -1,\n",
        "    ('R', 'R'): 5, ('R', 'S'): -1, ('R', 'T'): -1, ('R', 'V'): -3, ('R', 'W'): -3, ('R', 'Y'): -2,\n",
        "    ('S', 'S'): 4, ('S', 'T'): 1, ('S', 'V'): -2, ('S', 'W'): -3, ('S', 'Y'): -2,\n",
        "    ('T', 'T'): 5, ('T', 'V'): 0, ('T', 'W'): -2, ('T', 'Y'): -2,\n",
        "    ('V', 'V'): 4, ('V', 'W'): -3, ('V', 'Y'): -1,\n",
        "    ('W', 'W'): 11, ('W', 'Y'): 2,\n",
        "    ('Y', 'Y'): 7\n",
        "}\n",
        "\n",
        "def blosum62_score(a, b):\n",
        "    return BLOSUM62.get((a, b), BLOSUM62.get((b, a), -1))\n",
        "\n",
        "def get_protein_sequences():\n",
        "    \"\"\"\n",
        "    Prompts the user to input protein sequences manually or upload a FASTA file.\n",
        "    Validates the input based on limits for the number (exactly 2) and length (up to 1000 aa) of sequences.\n",
        "\n",
        "    Returns:\n",
        "        list: A list of two protein sequences if valid; otherwise, an empty list.\n",
        "    \"\"\"\n",
        "    choice = input(\"CHOOSE \\n (1) Do you want to input a sequence manually or \\n (2) Upload a FASTA file \\nEnter 1 or 2: \")\n",
        "\n",
        "    if choice == '1':\n",
        "        sequences = []\n",
        "        for i in range(2):\n",
        "            seq = input(f\"Enter protein sequence {i + 1} (up to 1000 aa): \").strip().upper()\n",
        "            if len(seq) > 1000:\n",
        "                print(\"Error: Sequence length exceeds 1000 amino acids.\")\n",
        "                return []\n",
        "            sequences.append(seq)\n",
        "        return sequences\n",
        "    elif choice == '2':\n",
        "        print(\"Please upload a FASTA file.\")\n",
        "        uploaded = files.upload()\n",
        "        uploaded_file = list(uploaded.keys())[0]\n",
        "        sequences = [str(record.seq) for record in SeqIO.parse(uploaded_file, \"fasta\")]\n",
        "        if len(sequences) != 2:\n",
        "            print(\"Error: FASTA file must contain exactly two sequences.\")\n",
        "            return []\n",
        "        if any(len(seq) > 1000 for seq in sequences):\n",
        "            print(\"Error: One or more sequences in the file exceed 1000 amino acids.\")\n",
        "            return []\n",
        "        return sequences\n",
        "    else:\n",
        "        print(\"Invalid choice. Please enter 1 for manual input or 2 for file upload.\")\n",
        "        return get_protein_sequences()\n",
        "\n",
        "def needleman_wunsch(seq1, seq2):\n",
        "    n = len(seq1)\n",
        "    m = len(seq2)\n",
        "    dp = np.zeros((n + 1, m + 1), dtype=int)\n",
        "    for i in range(1, n + 1):\n",
        "        dp[i][0] = dp[i - 1][0] + GAP_PENALTY\n",
        "    for j in range(1, m + 1):\n",
        "        dp[0][j] = dp[0][j - 1] + GAP_PENALTY\n",
        "    for i in range(1, n + 1):\n",
        "        for j in range(1, m + 1):\n",
        "            match = dp[i - 1][j - 1] + blosum62_score(seq1[i - 1], seq2[j - 1])\n",
        "            delete = dp[i - 1][j] + GAP_PENALTY\n",
        "            insert = dp[i][j - 1] + GAP_PENALTY\n",
        "            dp[i][j] = max(match, delete, insert)\n",
        "    return dp[n][m]\n",
        "\n",
        "sequences = get_protein_sequences()\n",
        "\n",
        "if sequences:\n",
        "    seq1, seq2 = sequences\n",
        "    alignment_score = needleman_wunsch(seq1, seq2)\n",
        "    print(\"Maximum Alignment Score:\", alignment_score)\n",
        "\n",
        "\n",
        "#expected output for the following input sample is 35\n",
        "# >sequence1\n",
        "# MEEPQSDPSV\n",
        "# >sequence2\n",
        "# MEESQDPSV"
      ]
    }
  ],
  "metadata": {
    "colab": {
      "provenance": [],
      "include_colab_link": true
    },
    "kernelspec": {
      "display_name": "Python 3",
      "name": "python3"
    },
    "language_info": {
      "name": "python"
    }
  },
  "nbformat": 4,
  "nbformat_minor": 0
}